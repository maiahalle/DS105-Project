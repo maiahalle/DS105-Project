{
 "cells": [
  {
   "cell_type": "code",
   "execution_count": null,
   "id": "ae4f522c",
   "metadata": {},
   "outputs": [],
   "source": [
    "acct_file = \"reptweets.csv\"\n",
    "word_count_filename = \"word_count.csv\"\n",
    "df_politicians = pandas.read_csv(acct_file)\n",
    "# csv file has trailing spaces on some column names, this insures there are no leading or trailing spaces\n",
    "df_politicians.columns = df_politicians.columns.str.strip()\n",
    "df_word_count = pandas.read_csv(word_count_filename, low_memory=False)\n",
    "# combines the two dataframes joining on the common handle column\n",
    "# inner means that the handle is reptweets.csv and word_count.csv\n",
    "df_party_word_count = pandas.merge(df_politicians, df_word_count, how='inner', on='handle')\n",
    "# get republicans and return all of the columns\n",
    "df_reps = df_party_word_count[df_party_word_count.party == 'R']\n",
    "# get democrats and return all of the columns\n",
    "df_dems = df_party_word_count[df_party_word_count.party == 'D']\n",
    "# get independents but only return the columns Word and Count\n",
    "df_indi = df_party_word_count[df_party_word_count.party == 'D'][['Word', 'Count']]"
   ]
  }
 ],
 "metadata": {
  "kernelspec": {
   "display_name": "Python 3 (ipykernel)",
   "language": "python",
   "name": "python3"
  },
  "language_info": {
   "codemirror_mode": {
    "name": "ipython",
    "version": 3
   },
   "file_extension": ".py",
   "mimetype": "text/x-python",
   "name": "python",
   "nbconvert_exporter": "python",
   "pygments_lexer": "ipython3",
   "version": "3.9.13"
  }
 },
 "nbformat": 4,
 "nbformat_minor": 5
}
