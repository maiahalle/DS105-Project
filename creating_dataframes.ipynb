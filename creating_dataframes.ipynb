{
 "cells": [
  {
   "cell_type": "code",
   "execution_count": 1,
   "id": "b402ac60",
   "metadata": {},
   "outputs": [],
   "source": [
    "import pandas as pd"
   ]
  },
  {
   "cell_type": "code",
   "execution_count": 134,
   "id": "1b1a23cc",
   "metadata": {},
   "outputs": [],
   "source": [
    "df_basic_info = pd.read_csv(\"full.csv\") # dataframe with name, state, party, handle, 438 rows"
   ]
  },
  {
   "cell_type": "code",
   "execution_count": 135,
   "id": "1a961e12",
   "metadata": {},
   "outputs": [],
   "source": [
    "df_democrats = df_basic_info.loc[(df_basic_info['Party'] == \"D\")] # dataframe with name, state, party, handle for democrats only, 224 rows"
   ]
  },
  {
   "cell_type": "code",
   "execution_count": 136,
   "id": "27f94447",
   "metadata": {},
   "outputs": [],
   "source": [
    "df_republicans = df_basic_info.loc[(df_basic_info['Party'] == \"R\")] # dataframe with name, state, party, handle for republicans only, 214 rows"
   ]
  },
  {
   "cell_type": "code",
   "execution_count": 137,
   "id": "98ab44e2",
   "metadata": {},
   "outputs": [],
   "source": [
    "democrat_handles = [x for x in df_democrats['Handles']] # list of handles of the democrats"
   ]
  },
  {
   "cell_type": "code",
   "execution_count": 138,
   "id": "7817e7fc",
   "metadata": {},
   "outputs": [],
   "source": [
    "republican_handles = [x for x in df_republicans['Handles']] # list of handles for the republicans"
   ]
  },
  {
   "cell_type": "code",
   "execution_count": 139,
   "id": "e6163185",
   "metadata": {},
   "outputs": [],
   "source": [
    "df_key_words = pd.read_csv(\"grouped.csv\") # dataframe with handle, tweet_count, key_word_list, 300 rows, only 10 tweets per politician"
   ]
  },
  {
   "cell_type": "code",
   "execution_count": 140,
   "id": "f7350aa9",
   "metadata": {},
   "outputs": [],
   "source": [
    "df_tweets = pd.read_csv(\"tweets.csv\") # dataframe with handle, name, tweet_id, author_id, lang, replied_to, created_at, tweet_text, possibly_sensitive, conversation_id, key_word_list, 3000 rows"
   ]
  },
  {
   "cell_type": "code",
   "execution_count": 141,
   "id": "31e107e3",
   "metadata": {},
   "outputs": [],
   "source": [
    "df_word_count = pd.read_csv(\"word_count.csv\") # dataframe with handle, word, count, 14987 rows"
   ]
  },
  {
   "cell_type": "markdown",
   "id": "afe518cf",
   "metadata": {},
   "source": [
    "## Creating dataframes for combined republican words and combined democrat words:"
   ]
  },
  {
   "cell_type": "code",
   "execution_count": 163,
   "id": "7e7867ad",
   "metadata": {},
   "outputs": [],
   "source": [
    "democrat_counts = []\n",
    "for i in range(len(df_word_count)):\n",
    "    if df_word_count.iloc[i]['handle'] in democrat_handles:\n",
    "        democrat_counts.append(df_word_count.iloc[i])"
   ]
  },
  {
   "cell_type": "code",
   "execution_count": 164,
   "id": "a6c984af",
   "metadata": {},
   "outputs": [],
   "source": [
    "df_democrat_words = pd.DataFrame(democrat_counts).drop(labels='handle', axis=1, index=None, columns=None, level=None, inplace=False, errors='raise')"
   ]
  },
  {
   "cell_type": "code",
   "execution_count": 166,
   "id": "3fdfe9ed",
   "metadata": {},
   "outputs": [],
   "source": [
    "df_democrat_word_counts = df_democrat_words.groupby(['Word']).sum().sort_values(by=[\"Count\"], ascending = False)"
   ]
  },
  {
   "cell_type": "code",
   "execution_count": 171,
   "id": "bcf8609c",
   "metadata": {},
   "outputs": [
    {
     "data": {
      "text/html": [
       "<div>\n",
       "<style scoped>\n",
       "    .dataframe tbody tr th:only-of-type {\n",
       "        vertical-align: middle;\n",
       "    }\n",
       "\n",
       "    .dataframe tbody tr th {\n",
       "        vertical-align: top;\n",
       "    }\n",
       "\n",
       "    .dataframe thead th {\n",
       "        text-align: right;\n",
       "    }\n",
       "</style>\n",
       "<table border=\"1\" class=\"dataframe\">\n",
       "  <thead>\n",
       "    <tr style=\"text-align: right;\">\n",
       "      <th></th>\n",
       "      <th>Count</th>\n",
       "    </tr>\n",
       "    <tr>\n",
       "      <th>Word</th>\n",
       "      <th></th>\n",
       "    </tr>\n",
       "  </thead>\n",
       "  <tbody>\n",
       "    <tr>\n",
       "      <th>amp</th>\n",
       "      <td>284</td>\n",
       "    </tr>\n",
       "    <tr>\n",
       "      <th>rt</th>\n",
       "      <td>215</td>\n",
       "    </tr>\n",
       "    <tr>\n",
       "      <th>today</th>\n",
       "      <td>178</td>\n",
       "    </tr>\n",
       "    <tr>\n",
       "      <th>work</th>\n",
       "      <td>139</td>\n",
       "    </tr>\n",
       "    <tr>\n",
       "      <th>act</th>\n",
       "      <td>127</td>\n",
       "    </tr>\n",
       "    <tr>\n",
       "      <th>...</th>\n",
       "      <td>...</td>\n",
       "    </tr>\n",
       "    <tr>\n",
       "      <th>possession</th>\n",
       "      <td>1</td>\n",
       "    </tr>\n",
       "    <tr>\n",
       "      <th>potus</th>\n",
       "      <td>1</td>\n",
       "    </tr>\n",
       "    <tr>\n",
       "      <th>estamos</th>\n",
       "      <td>1</td>\n",
       "    </tr>\n",
       "    <tr>\n",
       "      <th>especially</th>\n",
       "      <td>1</td>\n",
       "    </tr>\n",
       "    <tr>\n",
       "      <th>a</th>\n",
       "      <td>1</td>\n",
       "    </tr>\n",
       "  </tbody>\n",
       "</table>\n",
       "<p>2177 rows × 1 columns</p>\n",
       "</div>"
      ],
      "text/plain": [
       "            Count\n",
       "Word             \n",
       "amp           284\n",
       "rt            215\n",
       "today         178\n",
       "work          139\n",
       "act           127\n",
       "...           ...\n",
       "possession      1\n",
       "potus           1\n",
       "estamos         1\n",
       "especially      1\n",
       "a               1\n",
       "\n",
       "[2177 rows x 1 columns]"
      ]
     },
     "execution_count": 171,
     "metadata": {},
     "output_type": "execute_result"
    }
   ],
   "source": [
    "df_democrat_word_counts"
   ]
  },
  {
   "cell_type": "code",
   "execution_count": 172,
   "id": "d4f4fc43",
   "metadata": {},
   "outputs": [],
   "source": [
    "df_democrat_word_counts.to_csv('C:/Users/Amara/Documents/GitHub/DS105-Project/democrat_word_counts.csv')"
   ]
  },
  {
   "cell_type": "code",
   "execution_count": 151,
   "id": "aa361e44",
   "metadata": {},
   "outputs": [],
   "source": [
    "republican_counts = []\n",
    "for i in range(len(df_word_count)):\n",
    "    if df_word_count.iloc[i]['handle'] in republican_handles:\n",
    "        republican_counts.append(df_word_count.iloc[i])"
   ]
  },
  {
   "cell_type": "code",
   "execution_count": 152,
   "id": "58096822",
   "metadata": {},
   "outputs": [],
   "source": [
    "df_republican_words = pd.DataFrame(republican_counts).drop(labels='handle', axis=1, index=None, columns=None, level=None, inplace=False, errors='raise')"
   ]
  },
  {
   "cell_type": "code",
   "execution_count": 168,
   "id": "c2ca5c72",
   "metadata": {},
   "outputs": [],
   "source": [
    "df_republican_word_counts = df_republican_words.groupby(['Word']).sum().sort_values(by=[\"Count\"], ascending = False)"
   ]
  },
  {
   "cell_type": "code",
   "execution_count": 173,
   "id": "d76a9d13",
   "metadata": {},
   "outputs": [
    {
     "data": {
      "text/html": [
       "<div>\n",
       "<style scoped>\n",
       "    .dataframe tbody tr th:only-of-type {\n",
       "        vertical-align: middle;\n",
       "    }\n",
       "\n",
       "    .dataframe tbody tr th {\n",
       "        vertical-align: top;\n",
       "    }\n",
       "\n",
       "    .dataframe thead th {\n",
       "        text-align: right;\n",
       "    }\n",
       "</style>\n",
       "<table border=\"1\" class=\"dataframe\">\n",
       "  <thead>\n",
       "    <tr style=\"text-align: right;\">\n",
       "      <th></th>\n",
       "      <th>Count</th>\n",
       "    </tr>\n",
       "    <tr>\n",
       "      <th>Word</th>\n",
       "      <th></th>\n",
       "    </tr>\n",
       "  </thead>\n",
       "  <tbody>\n",
       "    <tr>\n",
       "      <th>rt</th>\n",
       "      <td>332</td>\n",
       "    </tr>\n",
       "    <tr>\n",
       "      <th>biden</th>\n",
       "      <td>236</td>\n",
       "    </tr>\n",
       "    <tr>\n",
       "      <th>border</th>\n",
       "      <td>200</td>\n",
       "    </tr>\n",
       "    <tr>\n",
       "      <th>amp</th>\n",
       "      <td>197</td>\n",
       "    </tr>\n",
       "    <tr>\n",
       "      <th>family</th>\n",
       "      <td>137</td>\n",
       "    </tr>\n",
       "    <tr>\n",
       "      <th>...</th>\n",
       "      <td>...</td>\n",
       "    </tr>\n",
       "    <tr>\n",
       "      <th>commun</th>\n",
       "      <td>1</td>\n",
       "    </tr>\n",
       "    <tr>\n",
       "      <th>bipartisanship</th>\n",
       "      <td>1</td>\n",
       "    </tr>\n",
       "    <tr>\n",
       "      <th>poll</th>\n",
       "      <td>1</td>\n",
       "    </tr>\n",
       "    <tr>\n",
       "      <th>portal</th>\n",
       "      <td>1</td>\n",
       "    </tr>\n",
       "    <tr>\n",
       "      <th>bud</th>\n",
       "      <td>1</td>\n",
       "    </tr>\n",
       "  </tbody>\n",
       "</table>\n",
       "<p>2445 rows × 1 columns</p>\n",
       "</div>"
      ],
      "text/plain": [
       "                Count\n",
       "Word                 \n",
       "rt                332\n",
       "biden             236\n",
       "border            200\n",
       "amp               197\n",
       "family            137\n",
       "...               ...\n",
       "commun              1\n",
       "bipartisanship      1\n",
       "poll                1\n",
       "portal              1\n",
       "bud                 1\n",
       "\n",
       "[2445 rows x 1 columns]"
      ]
     },
     "execution_count": 173,
     "metadata": {},
     "output_type": "execute_result"
    }
   ],
   "source": [
    "df_republican_word_counts"
   ]
  },
  {
   "cell_type": "code",
   "execution_count": 174,
   "id": "354d5903",
   "metadata": {},
   "outputs": [],
   "source": [
    "df_republican_word_counts.to_csv('C:/Users/Amara/Documents/GitHub/DS105-Project/republican_word_counts.csv')"
   ]
  },
  {
   "cell_type": "code",
   "execution_count": null,
   "id": "001f087e",
   "metadata": {},
   "outputs": [],
   "source": []
  }
 ],
 "metadata": {
  "kernelspec": {
   "display_name": "Python 3 (ipykernel)",
   "language": "python",
   "name": "python3"
  },
  "language_info": {
   "codemirror_mode": {
    "name": "ipython",
    "version": 3
   },
   "file_extension": ".py",
   "mimetype": "text/x-python",
   "name": "python",
   "nbconvert_exporter": "python",
   "pygments_lexer": "ipython3",
   "version": "3.9.12"
  }
 },
 "nbformat": 4,
 "nbformat_minor": 5
}
