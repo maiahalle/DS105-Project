{
 "cells": [
  {
   "cell_type": "code",
   "execution_count": 1,
   "id": "d4917757",
   "metadata": {},
   "outputs": [],
   "source": [
    "import pandas as pd"
   ]
  },
  {
   "cell_type": "code",
   "execution_count": 38,
   "id": "a44932b4",
   "metadata": {},
   "outputs": [],
   "source": [
    "df_basic_info = pd.read_csv(\"reptweets.csv\") # dataframe with name, state, party, handle, 438 rows"
   ]
  },
  {
   "cell_type": "code",
   "execution_count": 41,
   "id": "9f46a886",
   "metadata": {},
   "outputs": [
    {
     "data": {
      "text/html": [
       "<div>\n",
       "<style scoped>\n",
       "    .dataframe tbody tr th:only-of-type {\n",
       "        vertical-align: middle;\n",
       "    }\n",
       "\n",
       "    .dataframe tbody tr th {\n",
       "        vertical-align: top;\n",
       "    }\n",
       "\n",
       "    .dataframe thead th {\n",
       "        text-align: right;\n",
       "    }\n",
       "</style>\n",
       "<table border=\"1\" class=\"dataframe\">\n",
       "  <thead>\n",
       "    <tr style=\"text-align: right;\">\n",
       "      <th></th>\n",
       "      <th>name</th>\n",
       "      <th>handle</th>\n",
       "      <th>state</th>\n",
       "      <th>party</th>\n",
       "      <th>branch</th>\n",
       "    </tr>\n",
       "  </thead>\n",
       "  <tbody>\n",
       "    <tr>\n",
       "      <th>0</th>\n",
       "      <td>Baldwin, Tammy</td>\n",
       "      <td>SenatorBaldwin</td>\n",
       "      <td>WI</td>\n",
       "      <td>D</td>\n",
       "      <td>Senate</td>\n",
       "    </tr>\n",
       "    <tr>\n",
       "      <th>1</th>\n",
       "      <td>Barrasso, John</td>\n",
       "      <td>SenJohnBarrasso</td>\n",
       "      <td>WY</td>\n",
       "      <td>R</td>\n",
       "      <td>Senate</td>\n",
       "    </tr>\n",
       "    <tr>\n",
       "      <th>2</th>\n",
       "      <td>Bennet, Michael F.</td>\n",
       "      <td>SenatorBennet</td>\n",
       "      <td>CO</td>\n",
       "      <td>D</td>\n",
       "      <td>Senate</td>\n",
       "    </tr>\n",
       "    <tr>\n",
       "      <th>3</th>\n",
       "      <td>Blackburn, Marsha</td>\n",
       "      <td>MarshaBlackburn</td>\n",
       "      <td>TN</td>\n",
       "      <td>R</td>\n",
       "      <td>Senate</td>\n",
       "    </tr>\n",
       "    <tr>\n",
       "      <th>4</th>\n",
       "      <td>Blumenthal, Richard</td>\n",
       "      <td>SenBlumenthal</td>\n",
       "      <td>CT</td>\n",
       "      <td>D</td>\n",
       "      <td>Senate</td>\n",
       "    </tr>\n",
       "    <tr>\n",
       "      <th>...</th>\n",
       "      <td>...</td>\n",
       "      <td>...</td>\n",
       "      <td>...</td>\n",
       "      <td>...</td>\n",
       "      <td>...</td>\n",
       "    </tr>\n",
       "    <tr>\n",
       "      <th>531</th>\n",
       "      <td>Wittman, Robert J.</td>\n",
       "      <td>RobWittman</td>\n",
       "      <td>VA</td>\n",
       "      <td>R</td>\n",
       "      <td>House</td>\n",
       "    </tr>\n",
       "    <tr>\n",
       "      <th>532</th>\n",
       "      <td>Womack, Steve</td>\n",
       "      <td>rep_stevewomack</td>\n",
       "      <td>AR</td>\n",
       "      <td>R</td>\n",
       "      <td>House</td>\n",
       "    </tr>\n",
       "    <tr>\n",
       "      <th>533</th>\n",
       "      <td>Yakym, Rudy</td>\n",
       "      <td>RudyYakym</td>\n",
       "      <td>IN</td>\n",
       "      <td>R</td>\n",
       "      <td>House</td>\n",
       "    </tr>\n",
       "    <tr>\n",
       "      <th>534</th>\n",
       "      <td>Yarmuth, John A.</td>\n",
       "      <td>RepJohnYarmuth</td>\n",
       "      <td>KY</td>\n",
       "      <td>D</td>\n",
       "      <td>House</td>\n",
       "    </tr>\n",
       "    <tr>\n",
       "      <th>535</th>\n",
       "      <td>Zeldin, Lee</td>\n",
       "      <td>RepLeeZeldin</td>\n",
       "      <td>NY</td>\n",
       "      <td>R</td>\n",
       "      <td>House</td>\n",
       "    </tr>\n",
       "  </tbody>\n",
       "</table>\n",
       "<p>536 rows × 5 columns</p>\n",
       "</div>"
      ],
      "text/plain": [
       "                   name            handle state  party   branch\n",
       "0         Baldwin, Tammy   SenatorBaldwin     WI      D  Senate\n",
       "1         Barrasso, John  SenJohnBarrasso     WY      R  Senate\n",
       "2     Bennet, Michael F.    SenatorBennet     CO      D  Senate\n",
       "3      Blackburn, Marsha  MarshaBlackburn     TN      R  Senate\n",
       "4    Blumenthal, Richard    SenBlumenthal     CT      D  Senate\n",
       "..                   ...              ...    ...    ...     ...\n",
       "531   Wittman, Robert J.       RobWittman     VA      R   House\n",
       "532        Womack, Steve  rep_stevewomack     AR      R   House\n",
       "533          Yakym, Rudy        RudyYakym     IN      R   House\n",
       "534     Yarmuth, John A.   RepJohnYarmuth     KY      D   House\n",
       "535          Zeldin, Lee     RepLeeZeldin     NY      R   House\n",
       "\n",
       "[536 rows x 5 columns]"
      ]
     },
     "execution_count": 41,
     "metadata": {},
     "output_type": "execute_result"
    }
   ],
   "source": [
    "df_basic_info"
   ]
  },
  {
   "cell_type": "code",
   "execution_count": 47,
   "id": "4bab13e2",
   "metadata": {},
   "outputs": [
    {
     "ename": "KeyError",
     "evalue": "'party'",
     "output_type": "error",
     "traceback": [
      "\u001b[1;31m---------------------------------------------------------------------------\u001b[0m",
      "\u001b[1;31mKeyError\u001b[0m                                  Traceback (most recent call last)",
      "File \u001b[1;32m~\\anaconda3\\lib\\site-packages\\pandas\\core\\indexes\\base.py:3621\u001b[0m, in \u001b[0;36mIndex.get_loc\u001b[1;34m(self, key, method, tolerance)\u001b[0m\n\u001b[0;32m   3620\u001b[0m \u001b[38;5;28;01mtry\u001b[39;00m:\n\u001b[1;32m-> 3621\u001b[0m     \u001b[38;5;28;01mreturn\u001b[39;00m \u001b[38;5;28;43mself\u001b[39;49m\u001b[38;5;241;43m.\u001b[39;49m\u001b[43m_engine\u001b[49m\u001b[38;5;241;43m.\u001b[39;49m\u001b[43mget_loc\u001b[49m\u001b[43m(\u001b[49m\u001b[43mcasted_key\u001b[49m\u001b[43m)\u001b[49m\n\u001b[0;32m   3622\u001b[0m \u001b[38;5;28;01mexcept\u001b[39;00m \u001b[38;5;167;01mKeyError\u001b[39;00m \u001b[38;5;28;01mas\u001b[39;00m err:\n",
      "File \u001b[1;32m~\\anaconda3\\lib\\site-packages\\pandas\\_libs\\index.pyx:136\u001b[0m, in \u001b[0;36mpandas._libs.index.IndexEngine.get_loc\u001b[1;34m()\u001b[0m\n",
      "File \u001b[1;32m~\\anaconda3\\lib\\site-packages\\pandas\\_libs\\index.pyx:163\u001b[0m, in \u001b[0;36mpandas._libs.index.IndexEngine.get_loc\u001b[1;34m()\u001b[0m\n",
      "File \u001b[1;32mpandas\\_libs\\hashtable_class_helper.pxi:5198\u001b[0m, in \u001b[0;36mpandas._libs.hashtable.PyObjectHashTable.get_item\u001b[1;34m()\u001b[0m\n",
      "File \u001b[1;32mpandas\\_libs\\hashtable_class_helper.pxi:5206\u001b[0m, in \u001b[0;36mpandas._libs.hashtable.PyObjectHashTable.get_item\u001b[1;34m()\u001b[0m\n",
      "\u001b[1;31mKeyError\u001b[0m: 'party'",
      "\nThe above exception was the direct cause of the following exception:\n",
      "\u001b[1;31mKeyError\u001b[0m                                  Traceback (most recent call last)",
      "Input \u001b[1;32mIn [47]\u001b[0m, in \u001b[0;36m<cell line: 1>\u001b[1;34m()\u001b[0m\n\u001b[1;32m----> 1\u001b[0m df_basic_info\u001b[38;5;241m.\u001b[39mloc[\u001b[43mdf_basic_info\u001b[49m\u001b[43m[\u001b[49m\u001b[38;5;124;43m'\u001b[39;49m\u001b[38;5;124;43mparty\u001b[39;49m\u001b[38;5;124;43m'\u001b[39;49m\u001b[43m]\u001b[49m \u001b[38;5;241m==\u001b[39m \u001b[38;5;124m'\u001b[39m\u001b[38;5;124mD\u001b[39m\u001b[38;5;124m'\u001b[39m]\n",
      "File \u001b[1;32m~\\anaconda3\\lib\\site-packages\\pandas\\core\\frame.py:3505\u001b[0m, in \u001b[0;36mDataFrame.__getitem__\u001b[1;34m(self, key)\u001b[0m\n\u001b[0;32m   3503\u001b[0m \u001b[38;5;28;01mif\u001b[39;00m \u001b[38;5;28mself\u001b[39m\u001b[38;5;241m.\u001b[39mcolumns\u001b[38;5;241m.\u001b[39mnlevels \u001b[38;5;241m>\u001b[39m \u001b[38;5;241m1\u001b[39m:\n\u001b[0;32m   3504\u001b[0m     \u001b[38;5;28;01mreturn\u001b[39;00m \u001b[38;5;28mself\u001b[39m\u001b[38;5;241m.\u001b[39m_getitem_multilevel(key)\n\u001b[1;32m-> 3505\u001b[0m indexer \u001b[38;5;241m=\u001b[39m \u001b[38;5;28;43mself\u001b[39;49m\u001b[38;5;241;43m.\u001b[39;49m\u001b[43mcolumns\u001b[49m\u001b[38;5;241;43m.\u001b[39;49m\u001b[43mget_loc\u001b[49m\u001b[43m(\u001b[49m\u001b[43mkey\u001b[49m\u001b[43m)\u001b[49m\n\u001b[0;32m   3506\u001b[0m \u001b[38;5;28;01mif\u001b[39;00m is_integer(indexer):\n\u001b[0;32m   3507\u001b[0m     indexer \u001b[38;5;241m=\u001b[39m [indexer]\n",
      "File \u001b[1;32m~\\anaconda3\\lib\\site-packages\\pandas\\core\\indexes\\base.py:3623\u001b[0m, in \u001b[0;36mIndex.get_loc\u001b[1;34m(self, key, method, tolerance)\u001b[0m\n\u001b[0;32m   3621\u001b[0m     \u001b[38;5;28;01mreturn\u001b[39;00m \u001b[38;5;28mself\u001b[39m\u001b[38;5;241m.\u001b[39m_engine\u001b[38;5;241m.\u001b[39mget_loc(casted_key)\n\u001b[0;32m   3622\u001b[0m \u001b[38;5;28;01mexcept\u001b[39;00m \u001b[38;5;167;01mKeyError\u001b[39;00m \u001b[38;5;28;01mas\u001b[39;00m err:\n\u001b[1;32m-> 3623\u001b[0m     \u001b[38;5;28;01mraise\u001b[39;00m \u001b[38;5;167;01mKeyError\u001b[39;00m(key) \u001b[38;5;28;01mfrom\u001b[39;00m \u001b[38;5;21;01merr\u001b[39;00m\n\u001b[0;32m   3624\u001b[0m \u001b[38;5;28;01mexcept\u001b[39;00m \u001b[38;5;167;01mTypeError\u001b[39;00m:\n\u001b[0;32m   3625\u001b[0m     \u001b[38;5;66;03m# If we have a listlike key, _check_indexing_error will raise\u001b[39;00m\n\u001b[0;32m   3626\u001b[0m     \u001b[38;5;66;03m#  InvalidIndexError. Otherwise we fall through and re-raise\u001b[39;00m\n\u001b[0;32m   3627\u001b[0m     \u001b[38;5;66;03m#  the TypeError.\u001b[39;00m\n\u001b[0;32m   3628\u001b[0m     \u001b[38;5;28mself\u001b[39m\u001b[38;5;241m.\u001b[39m_check_indexing_error(key)\n",
      "\u001b[1;31mKeyError\u001b[0m: 'party'"
     ]
    }
   ],
   "source": [
    "df_basic_info.loc[df_basic_info['party'] == 'D']"
   ]
  },
  {
   "cell_type": "code",
   "execution_count": 44,
   "id": "9a760334",
   "metadata": {},
   "outputs": [
    {
     "ename": "KeyError",
     "evalue": "'party'",
     "output_type": "error",
     "traceback": [
      "\u001b[1;31m---------------------------------------------------------------------------\u001b[0m",
      "\u001b[1;31mKeyError\u001b[0m                                  Traceback (most recent call last)",
      "File \u001b[1;32m~\\anaconda3\\lib\\site-packages\\pandas\\core\\indexes\\base.py:3621\u001b[0m, in \u001b[0;36mIndex.get_loc\u001b[1;34m(self, key, method, tolerance)\u001b[0m\n\u001b[0;32m   3620\u001b[0m \u001b[38;5;28;01mtry\u001b[39;00m:\n\u001b[1;32m-> 3621\u001b[0m     \u001b[38;5;28;01mreturn\u001b[39;00m \u001b[38;5;28;43mself\u001b[39;49m\u001b[38;5;241;43m.\u001b[39;49m\u001b[43m_engine\u001b[49m\u001b[38;5;241;43m.\u001b[39;49m\u001b[43mget_loc\u001b[49m\u001b[43m(\u001b[49m\u001b[43mcasted_key\u001b[49m\u001b[43m)\u001b[49m\n\u001b[0;32m   3622\u001b[0m \u001b[38;5;28;01mexcept\u001b[39;00m \u001b[38;5;167;01mKeyError\u001b[39;00m \u001b[38;5;28;01mas\u001b[39;00m err:\n",
      "File \u001b[1;32m~\\anaconda3\\lib\\site-packages\\pandas\\_libs\\index.pyx:136\u001b[0m, in \u001b[0;36mpandas._libs.index.IndexEngine.get_loc\u001b[1;34m()\u001b[0m\n",
      "File \u001b[1;32m~\\anaconda3\\lib\\site-packages\\pandas\\_libs\\index.pyx:163\u001b[0m, in \u001b[0;36mpandas._libs.index.IndexEngine.get_loc\u001b[1;34m()\u001b[0m\n",
      "File \u001b[1;32mpandas\\_libs\\hashtable_class_helper.pxi:5198\u001b[0m, in \u001b[0;36mpandas._libs.hashtable.PyObjectHashTable.get_item\u001b[1;34m()\u001b[0m\n",
      "File \u001b[1;32mpandas\\_libs\\hashtable_class_helper.pxi:5206\u001b[0m, in \u001b[0;36mpandas._libs.hashtable.PyObjectHashTable.get_item\u001b[1;34m()\u001b[0m\n",
      "\u001b[1;31mKeyError\u001b[0m: 'party'",
      "\nThe above exception was the direct cause of the following exception:\n",
      "\u001b[1;31mKeyError\u001b[0m                                  Traceback (most recent call last)",
      "Input \u001b[1;32mIn [44]\u001b[0m, in \u001b[0;36m<cell line: 1>\u001b[1;34m()\u001b[0m\n\u001b[1;32m----> 1\u001b[0m df_democrats \u001b[38;5;241m=\u001b[39m df_basic_info\u001b[38;5;241m.\u001b[39mloc[(\u001b[43mdf_basic_info\u001b[49m\u001b[43m[\u001b[49m\u001b[38;5;124;43m'\u001b[39;49m\u001b[38;5;124;43mparty\u001b[39;49m\u001b[38;5;124;43m'\u001b[39;49m\u001b[43m]\u001b[49m \u001b[38;5;241m==\u001b[39m \u001b[38;5;124m\"\u001b[39m\u001b[38;5;124mD\u001b[39m\u001b[38;5;124m\"\u001b[39m)]\n",
      "File \u001b[1;32m~\\anaconda3\\lib\\site-packages\\pandas\\core\\frame.py:3505\u001b[0m, in \u001b[0;36mDataFrame.__getitem__\u001b[1;34m(self, key)\u001b[0m\n\u001b[0;32m   3503\u001b[0m \u001b[38;5;28;01mif\u001b[39;00m \u001b[38;5;28mself\u001b[39m\u001b[38;5;241m.\u001b[39mcolumns\u001b[38;5;241m.\u001b[39mnlevels \u001b[38;5;241m>\u001b[39m \u001b[38;5;241m1\u001b[39m:\n\u001b[0;32m   3504\u001b[0m     \u001b[38;5;28;01mreturn\u001b[39;00m \u001b[38;5;28mself\u001b[39m\u001b[38;5;241m.\u001b[39m_getitem_multilevel(key)\n\u001b[1;32m-> 3505\u001b[0m indexer \u001b[38;5;241m=\u001b[39m \u001b[38;5;28;43mself\u001b[39;49m\u001b[38;5;241;43m.\u001b[39;49m\u001b[43mcolumns\u001b[49m\u001b[38;5;241;43m.\u001b[39;49m\u001b[43mget_loc\u001b[49m\u001b[43m(\u001b[49m\u001b[43mkey\u001b[49m\u001b[43m)\u001b[49m\n\u001b[0;32m   3506\u001b[0m \u001b[38;5;28;01mif\u001b[39;00m is_integer(indexer):\n\u001b[0;32m   3507\u001b[0m     indexer \u001b[38;5;241m=\u001b[39m [indexer]\n",
      "File \u001b[1;32m~\\anaconda3\\lib\\site-packages\\pandas\\core\\indexes\\base.py:3623\u001b[0m, in \u001b[0;36mIndex.get_loc\u001b[1;34m(self, key, method, tolerance)\u001b[0m\n\u001b[0;32m   3621\u001b[0m     \u001b[38;5;28;01mreturn\u001b[39;00m \u001b[38;5;28mself\u001b[39m\u001b[38;5;241m.\u001b[39m_engine\u001b[38;5;241m.\u001b[39mget_loc(casted_key)\n\u001b[0;32m   3622\u001b[0m \u001b[38;5;28;01mexcept\u001b[39;00m \u001b[38;5;167;01mKeyError\u001b[39;00m \u001b[38;5;28;01mas\u001b[39;00m err:\n\u001b[1;32m-> 3623\u001b[0m     \u001b[38;5;28;01mraise\u001b[39;00m \u001b[38;5;167;01mKeyError\u001b[39;00m(key) \u001b[38;5;28;01mfrom\u001b[39;00m \u001b[38;5;21;01merr\u001b[39;00m\n\u001b[0;32m   3624\u001b[0m \u001b[38;5;28;01mexcept\u001b[39;00m \u001b[38;5;167;01mTypeError\u001b[39;00m:\n\u001b[0;32m   3625\u001b[0m     \u001b[38;5;66;03m# If we have a listlike key, _check_indexing_error will raise\u001b[39;00m\n\u001b[0;32m   3626\u001b[0m     \u001b[38;5;66;03m#  InvalidIndexError. Otherwise we fall through and re-raise\u001b[39;00m\n\u001b[0;32m   3627\u001b[0m     \u001b[38;5;66;03m#  the TypeError.\u001b[39;00m\n\u001b[0;32m   3628\u001b[0m     \u001b[38;5;28mself\u001b[39m\u001b[38;5;241m.\u001b[39m_check_indexing_error(key)\n",
      "\u001b[1;31mKeyError\u001b[0m: 'party'"
     ]
    }
   ],
   "source": [
    "df_democrats = df_basic_info.loc[(df_basic_info['party'] == \"D\")] # dataframe with name, state, party, handle for democrats only, 224 rows"
   ]
  },
  {
   "cell_type": "code",
   "execution_count": 4,
   "id": "a46b3a4d",
   "metadata": {},
   "outputs": [
    {
     "ename": "NameError",
     "evalue": "name 'df_basic_info' is not defined",
     "output_type": "error",
     "traceback": [
      "\u001b[1;31m---------------------------------------------------------------------------\u001b[0m",
      "\u001b[1;31mNameError\u001b[0m                                 Traceback (most recent call last)",
      "Input \u001b[1;32mIn [4]\u001b[0m, in \u001b[0;36m<cell line: 1>\u001b[1;34m()\u001b[0m\n\u001b[1;32m----> 1\u001b[0m df_republicans \u001b[38;5;241m=\u001b[39m \u001b[43mdf_basic_info\u001b[49m\u001b[38;5;241m.\u001b[39mloc[(df_basic_info[\u001b[38;5;124m'\u001b[39m\u001b[38;5;124mParty\u001b[39m\u001b[38;5;124m'\u001b[39m] \u001b[38;5;241m==\u001b[39m \u001b[38;5;124m\"\u001b[39m\u001b[38;5;124mR\u001b[39m\u001b[38;5;124m\"\u001b[39m)]\n",
      "\u001b[1;31mNameError\u001b[0m: name 'df_basic_info' is not defined"
     ]
    }
   ],
   "source": [
    "df_republicans = df_basic_info.loc[(df_basic_info['Party'] == \"R\")] # dataframe with name, state, party, handle for republicans only, 214 rows"
   ]
  },
  {
   "cell_type": "code",
   "execution_count": 5,
   "id": "fb8a77c5",
   "metadata": {},
   "outputs": [
    {
     "ename": "NameError",
     "evalue": "name 'df_democrats' is not defined",
     "output_type": "error",
     "traceback": [
      "\u001b[1;31m---------------------------------------------------------------------------\u001b[0m",
      "\u001b[1;31mNameError\u001b[0m                                 Traceback (most recent call last)",
      "Input \u001b[1;32mIn [5]\u001b[0m, in \u001b[0;36m<cell line: 1>\u001b[1;34m()\u001b[0m\n\u001b[1;32m----> 1\u001b[0m democrat_handles \u001b[38;5;241m=\u001b[39m [x \u001b[38;5;28;01mfor\u001b[39;00m x \u001b[38;5;129;01min\u001b[39;00m \u001b[43mdf_democrats\u001b[49m[\u001b[38;5;124m'\u001b[39m\u001b[38;5;124mHandles\u001b[39m\u001b[38;5;124m'\u001b[39m]]\n",
      "\u001b[1;31mNameError\u001b[0m: name 'df_democrats' is not defined"
     ]
    }
   ],
   "source": [
    "democrat_handles = [x for x in df_democrats['Handles']] # list of handles of the democrats"
   ]
  },
  {
   "cell_type": "code",
   "execution_count": 6,
   "id": "765a4ebe",
   "metadata": {},
   "outputs": [
    {
     "ename": "NameError",
     "evalue": "name 'df_republicans' is not defined",
     "output_type": "error",
     "traceback": [
      "\u001b[1;31m---------------------------------------------------------------------------\u001b[0m",
      "\u001b[1;31mNameError\u001b[0m                                 Traceback (most recent call last)",
      "Input \u001b[1;32mIn [6]\u001b[0m, in \u001b[0;36m<cell line: 1>\u001b[1;34m()\u001b[0m\n\u001b[1;32m----> 1\u001b[0m republican_handles \u001b[38;5;241m=\u001b[39m [x \u001b[38;5;28;01mfor\u001b[39;00m x \u001b[38;5;129;01min\u001b[39;00m \u001b[43mdf_republicans\u001b[49m[\u001b[38;5;124m'\u001b[39m\u001b[38;5;124mHandles\u001b[39m\u001b[38;5;124m'\u001b[39m]]\n",
      "\u001b[1;31mNameError\u001b[0m: name 'df_republicans' is not defined"
     ]
    }
   ],
   "source": [
    "republican_handles = [x for x in df_republicans['Handles']] # list of handles for the republicans"
   ]
  },
  {
   "cell_type": "code",
   "execution_count": 7,
   "id": "b24984de",
   "metadata": {},
   "outputs": [],
   "source": [
    "df_key_words = pd.read_csv(\"grouped.csv\") # dataframe with handle, tweet_count, key_word_list, 300 rows, only 10 tweets per politician"
   ]
  },
  {
   "cell_type": "code",
   "execution_count": 8,
   "id": "6c461915",
   "metadata": {},
   "outputs": [],
   "source": [
    "df_tweets = pd.read_csv(\"tweets.csv\") # dataframe with handle, name, tweet_id, author_id, lang, replied_to, created_at, tweet_text, possibly_sensitive, conversation_id, key_word_list, 3000 rows"
   ]
  },
  {
   "cell_type": "code",
   "execution_count": 9,
   "id": "add0b2e2",
   "metadata": {},
   "outputs": [],
   "source": [
    "df_word_count = pd.read_csv(\"word_count.csv\") # dataframe with handle, word, count, 14987 rows"
   ]
  },
  {
   "cell_type": "markdown",
   "id": "0b2d921f",
   "metadata": {},
   "source": [
    "## Creating dataframes for combined republican words and combined democrat words:"
   ]
  },
  {
   "cell_type": "code",
   "execution_count": 10,
   "id": "e681047c",
   "metadata": {},
   "outputs": [
    {
     "ename": "NameError",
     "evalue": "name 'democrat_handles' is not defined",
     "output_type": "error",
     "traceback": [
      "\u001b[1;31m---------------------------------------------------------------------------\u001b[0m",
      "\u001b[1;31mNameError\u001b[0m                                 Traceback (most recent call last)",
      "Input \u001b[1;32mIn [10]\u001b[0m, in \u001b[0;36m<cell line: 2>\u001b[1;34m()\u001b[0m\n\u001b[0;32m      1\u001b[0m democrat_counts \u001b[38;5;241m=\u001b[39m []\n\u001b[0;32m      2\u001b[0m \u001b[38;5;28;01mfor\u001b[39;00m i \u001b[38;5;129;01min\u001b[39;00m \u001b[38;5;28mrange\u001b[39m(\u001b[38;5;28mlen\u001b[39m(df_word_count)):\n\u001b[1;32m----> 3\u001b[0m     \u001b[38;5;28;01mif\u001b[39;00m df_word_count\u001b[38;5;241m.\u001b[39miloc[i][\u001b[38;5;124m'\u001b[39m\u001b[38;5;124mhandle\u001b[39m\u001b[38;5;124m'\u001b[39m] \u001b[38;5;129;01min\u001b[39;00m \u001b[43mdemocrat_handles\u001b[49m:\n\u001b[0;32m      4\u001b[0m         democrat_counts\u001b[38;5;241m.\u001b[39mappend(df_word_count\u001b[38;5;241m.\u001b[39miloc[i])\n",
      "\u001b[1;31mNameError\u001b[0m: name 'democrat_handles' is not defined"
     ]
    }
   ],
   "source": [
    "democrat_counts = []\n",
    "for i in range(len(df_word_count)):\n",
    "    if df_word_count.iloc[i]['handle'] in democrat_handles:\n",
    "        democrat_counts.append(df_word_count.iloc[i])"
   ]
  },
  {
   "cell_type": "code",
   "execution_count": 11,
   "id": "60df8de2",
   "metadata": {},
   "outputs": [
    {
     "ename": "KeyError",
     "evalue": "\"['handle'] not found in axis\"",
     "output_type": "error",
     "traceback": [
      "\u001b[1;31m---------------------------------------------------------------------------\u001b[0m",
      "\u001b[1;31mKeyError\u001b[0m                                  Traceback (most recent call last)",
      "Input \u001b[1;32mIn [11]\u001b[0m, in \u001b[0;36m<cell line: 1>\u001b[1;34m()\u001b[0m\n\u001b[1;32m----> 1\u001b[0m df_democrat_words \u001b[38;5;241m=\u001b[39m \u001b[43mpd\u001b[49m\u001b[38;5;241;43m.\u001b[39;49m\u001b[43mDataFrame\u001b[49m\u001b[43m(\u001b[49m\u001b[43mdemocrat_counts\u001b[49m\u001b[43m)\u001b[49m\u001b[38;5;241;43m.\u001b[39;49m\u001b[43mdrop\u001b[49m\u001b[43m(\u001b[49m\u001b[43mlabels\u001b[49m\u001b[38;5;241;43m=\u001b[39;49m\u001b[38;5;124;43m'\u001b[39;49m\u001b[38;5;124;43mhandle\u001b[39;49m\u001b[38;5;124;43m'\u001b[39;49m\u001b[43m,\u001b[49m\u001b[43m \u001b[49m\u001b[43maxis\u001b[49m\u001b[38;5;241;43m=\u001b[39;49m\u001b[38;5;241;43m1\u001b[39;49m\u001b[43m,\u001b[49m\u001b[43m \u001b[49m\u001b[43mindex\u001b[49m\u001b[38;5;241;43m=\u001b[39;49m\u001b[38;5;28;43;01mNone\u001b[39;49;00m\u001b[43m,\u001b[49m\u001b[43m \u001b[49m\u001b[43mcolumns\u001b[49m\u001b[38;5;241;43m=\u001b[39;49m\u001b[38;5;28;43;01mNone\u001b[39;49;00m\u001b[43m,\u001b[49m\u001b[43m \u001b[49m\u001b[43mlevel\u001b[49m\u001b[38;5;241;43m=\u001b[39;49m\u001b[38;5;28;43;01mNone\u001b[39;49;00m\u001b[43m,\u001b[49m\u001b[43m \u001b[49m\u001b[43minplace\u001b[49m\u001b[38;5;241;43m=\u001b[39;49m\u001b[38;5;28;43;01mFalse\u001b[39;49;00m\u001b[43m,\u001b[49m\u001b[43m \u001b[49m\u001b[43merrors\u001b[49m\u001b[38;5;241;43m=\u001b[39;49m\u001b[38;5;124;43m'\u001b[39;49m\u001b[38;5;124;43mraise\u001b[39;49m\u001b[38;5;124;43m'\u001b[39;49m\u001b[43m)\u001b[49m\n",
      "File \u001b[1;32m~\\anaconda3\\lib\\site-packages\\pandas\\util\\_decorators.py:311\u001b[0m, in \u001b[0;36mdeprecate_nonkeyword_arguments.<locals>.decorate.<locals>.wrapper\u001b[1;34m(*args, **kwargs)\u001b[0m\n\u001b[0;32m    305\u001b[0m \u001b[38;5;28;01mif\u001b[39;00m \u001b[38;5;28mlen\u001b[39m(args) \u001b[38;5;241m>\u001b[39m num_allow_args:\n\u001b[0;32m    306\u001b[0m     warnings\u001b[38;5;241m.\u001b[39mwarn(\n\u001b[0;32m    307\u001b[0m         msg\u001b[38;5;241m.\u001b[39mformat(arguments\u001b[38;5;241m=\u001b[39marguments),\n\u001b[0;32m    308\u001b[0m         \u001b[38;5;167;01mFutureWarning\u001b[39;00m,\n\u001b[0;32m    309\u001b[0m         stacklevel\u001b[38;5;241m=\u001b[39mstacklevel,\n\u001b[0;32m    310\u001b[0m     )\n\u001b[1;32m--> 311\u001b[0m \u001b[38;5;28;01mreturn\u001b[39;00m func(\u001b[38;5;241m*\u001b[39margs, \u001b[38;5;241m*\u001b[39m\u001b[38;5;241m*\u001b[39mkwargs)\n",
      "File \u001b[1;32m~\\anaconda3\\lib\\site-packages\\pandas\\core\\frame.py:4954\u001b[0m, in \u001b[0;36mDataFrame.drop\u001b[1;34m(self, labels, axis, index, columns, level, inplace, errors)\u001b[0m\n\u001b[0;32m   4806\u001b[0m \u001b[38;5;129m@deprecate_nonkeyword_arguments\u001b[39m(version\u001b[38;5;241m=\u001b[39m\u001b[38;5;28;01mNone\u001b[39;00m, allowed_args\u001b[38;5;241m=\u001b[39m[\u001b[38;5;124m\"\u001b[39m\u001b[38;5;124mself\u001b[39m\u001b[38;5;124m\"\u001b[39m, \u001b[38;5;124m\"\u001b[39m\u001b[38;5;124mlabels\u001b[39m\u001b[38;5;124m\"\u001b[39m])\n\u001b[0;32m   4807\u001b[0m \u001b[38;5;28;01mdef\u001b[39;00m \u001b[38;5;21mdrop\u001b[39m(\n\u001b[0;32m   4808\u001b[0m     \u001b[38;5;28mself\u001b[39m,\n\u001b[1;32m   (...)\u001b[0m\n\u001b[0;32m   4815\u001b[0m     errors: \u001b[38;5;28mstr\u001b[39m \u001b[38;5;241m=\u001b[39m \u001b[38;5;124m\"\u001b[39m\u001b[38;5;124mraise\u001b[39m\u001b[38;5;124m\"\u001b[39m,\n\u001b[0;32m   4816\u001b[0m ):\n\u001b[0;32m   4817\u001b[0m     \u001b[38;5;124;03m\"\"\"\u001b[39;00m\n\u001b[0;32m   4818\u001b[0m \u001b[38;5;124;03m    Drop specified labels from rows or columns.\u001b[39;00m\n\u001b[0;32m   4819\u001b[0m \n\u001b[1;32m   (...)\u001b[0m\n\u001b[0;32m   4952\u001b[0m \u001b[38;5;124;03m            weight  1.0     0.8\u001b[39;00m\n\u001b[0;32m   4953\u001b[0m \u001b[38;5;124;03m    \"\"\"\u001b[39;00m\n\u001b[1;32m-> 4954\u001b[0m     \u001b[38;5;28;01mreturn\u001b[39;00m \u001b[38;5;28;43msuper\u001b[39;49m\u001b[43m(\u001b[49m\u001b[43m)\u001b[49m\u001b[38;5;241;43m.\u001b[39;49m\u001b[43mdrop\u001b[49m\u001b[43m(\u001b[49m\n\u001b[0;32m   4955\u001b[0m \u001b[43m        \u001b[49m\u001b[43mlabels\u001b[49m\u001b[38;5;241;43m=\u001b[39;49m\u001b[43mlabels\u001b[49m\u001b[43m,\u001b[49m\n\u001b[0;32m   4956\u001b[0m \u001b[43m        \u001b[49m\u001b[43maxis\u001b[49m\u001b[38;5;241;43m=\u001b[39;49m\u001b[43maxis\u001b[49m\u001b[43m,\u001b[49m\n\u001b[0;32m   4957\u001b[0m \u001b[43m        \u001b[49m\u001b[43mindex\u001b[49m\u001b[38;5;241;43m=\u001b[39;49m\u001b[43mindex\u001b[49m\u001b[43m,\u001b[49m\n\u001b[0;32m   4958\u001b[0m \u001b[43m        \u001b[49m\u001b[43mcolumns\u001b[49m\u001b[38;5;241;43m=\u001b[39;49m\u001b[43mcolumns\u001b[49m\u001b[43m,\u001b[49m\n\u001b[0;32m   4959\u001b[0m \u001b[43m        \u001b[49m\u001b[43mlevel\u001b[49m\u001b[38;5;241;43m=\u001b[39;49m\u001b[43mlevel\u001b[49m\u001b[43m,\u001b[49m\n\u001b[0;32m   4960\u001b[0m \u001b[43m        \u001b[49m\u001b[43minplace\u001b[49m\u001b[38;5;241;43m=\u001b[39;49m\u001b[43minplace\u001b[49m\u001b[43m,\u001b[49m\n\u001b[0;32m   4961\u001b[0m \u001b[43m        \u001b[49m\u001b[43merrors\u001b[49m\u001b[38;5;241;43m=\u001b[39;49m\u001b[43merrors\u001b[49m\u001b[43m,\u001b[49m\n\u001b[0;32m   4962\u001b[0m \u001b[43m    \u001b[49m\u001b[43m)\u001b[49m\n",
      "File \u001b[1;32m~\\anaconda3\\lib\\site-packages\\pandas\\core\\generic.py:4267\u001b[0m, in \u001b[0;36mNDFrame.drop\u001b[1;34m(self, labels, axis, index, columns, level, inplace, errors)\u001b[0m\n\u001b[0;32m   4265\u001b[0m \u001b[38;5;28;01mfor\u001b[39;00m axis, labels \u001b[38;5;129;01min\u001b[39;00m axes\u001b[38;5;241m.\u001b[39mitems():\n\u001b[0;32m   4266\u001b[0m     \u001b[38;5;28;01mif\u001b[39;00m labels \u001b[38;5;129;01mis\u001b[39;00m \u001b[38;5;129;01mnot\u001b[39;00m \u001b[38;5;28;01mNone\u001b[39;00m:\n\u001b[1;32m-> 4267\u001b[0m         obj \u001b[38;5;241m=\u001b[39m \u001b[43mobj\u001b[49m\u001b[38;5;241;43m.\u001b[39;49m\u001b[43m_drop_axis\u001b[49m\u001b[43m(\u001b[49m\u001b[43mlabels\u001b[49m\u001b[43m,\u001b[49m\u001b[43m \u001b[49m\u001b[43maxis\u001b[49m\u001b[43m,\u001b[49m\u001b[43m \u001b[49m\u001b[43mlevel\u001b[49m\u001b[38;5;241;43m=\u001b[39;49m\u001b[43mlevel\u001b[49m\u001b[43m,\u001b[49m\u001b[43m \u001b[49m\u001b[43merrors\u001b[49m\u001b[38;5;241;43m=\u001b[39;49m\u001b[43merrors\u001b[49m\u001b[43m)\u001b[49m\n\u001b[0;32m   4269\u001b[0m \u001b[38;5;28;01mif\u001b[39;00m inplace:\n\u001b[0;32m   4270\u001b[0m     \u001b[38;5;28mself\u001b[39m\u001b[38;5;241m.\u001b[39m_update_inplace(obj)\n",
      "File \u001b[1;32m~\\anaconda3\\lib\\site-packages\\pandas\\core\\generic.py:4311\u001b[0m, in \u001b[0;36mNDFrame._drop_axis\u001b[1;34m(self, labels, axis, level, errors, consolidate, only_slice)\u001b[0m\n\u001b[0;32m   4309\u001b[0m         new_axis \u001b[38;5;241m=\u001b[39m axis\u001b[38;5;241m.\u001b[39mdrop(labels, level\u001b[38;5;241m=\u001b[39mlevel, errors\u001b[38;5;241m=\u001b[39merrors)\n\u001b[0;32m   4310\u001b[0m     \u001b[38;5;28;01melse\u001b[39;00m:\n\u001b[1;32m-> 4311\u001b[0m         new_axis \u001b[38;5;241m=\u001b[39m \u001b[43maxis\u001b[49m\u001b[38;5;241;43m.\u001b[39;49m\u001b[43mdrop\u001b[49m\u001b[43m(\u001b[49m\u001b[43mlabels\u001b[49m\u001b[43m,\u001b[49m\u001b[43m \u001b[49m\u001b[43merrors\u001b[49m\u001b[38;5;241;43m=\u001b[39;49m\u001b[43merrors\u001b[49m\u001b[43m)\u001b[49m\n\u001b[0;32m   4312\u001b[0m     indexer \u001b[38;5;241m=\u001b[39m axis\u001b[38;5;241m.\u001b[39mget_indexer(new_axis)\n\u001b[0;32m   4314\u001b[0m \u001b[38;5;66;03m# Case for non-unique axis\u001b[39;00m\n\u001b[0;32m   4315\u001b[0m \u001b[38;5;28;01melse\u001b[39;00m:\n",
      "File \u001b[1;32m~\\anaconda3\\lib\\site-packages\\pandas\\core\\indexes\\base.py:6644\u001b[0m, in \u001b[0;36mIndex.drop\u001b[1;34m(self, labels, errors)\u001b[0m\n\u001b[0;32m   6642\u001b[0m \u001b[38;5;28;01mif\u001b[39;00m mask\u001b[38;5;241m.\u001b[39many():\n\u001b[0;32m   6643\u001b[0m     \u001b[38;5;28;01mif\u001b[39;00m errors \u001b[38;5;241m!=\u001b[39m \u001b[38;5;124m\"\u001b[39m\u001b[38;5;124mignore\u001b[39m\u001b[38;5;124m\"\u001b[39m:\n\u001b[1;32m-> 6644\u001b[0m         \u001b[38;5;28;01mraise\u001b[39;00m \u001b[38;5;167;01mKeyError\u001b[39;00m(\u001b[38;5;124mf\u001b[39m\u001b[38;5;124m\"\u001b[39m\u001b[38;5;132;01m{\u001b[39;00m\u001b[38;5;28mlist\u001b[39m(labels[mask])\u001b[38;5;132;01m}\u001b[39;00m\u001b[38;5;124m not found in axis\u001b[39m\u001b[38;5;124m\"\u001b[39m)\n\u001b[0;32m   6645\u001b[0m     indexer \u001b[38;5;241m=\u001b[39m indexer[\u001b[38;5;241m~\u001b[39mmask]\n\u001b[0;32m   6646\u001b[0m \u001b[38;5;28;01mreturn\u001b[39;00m \u001b[38;5;28mself\u001b[39m\u001b[38;5;241m.\u001b[39mdelete(indexer)\n",
      "\u001b[1;31mKeyError\u001b[0m: \"['handle'] not found in axis\""
     ]
    }
   ],
   "source": [
    "df_democrat_words = pd.DataFrame(democrat_counts).drop(labels='handle', axis=1, index=None, columns=None, level=None, inplace=False, errors='raise')"
   ]
  },
  {
   "cell_type": "code",
   "execution_count": null,
   "id": "e24dff40",
   "metadata": {},
   "outputs": [],
   "source": [
    "df_democrat_word_counts = df_democrat_words.groupby(['Word']).sum().sort_values(by=[\"Count\"], ascending = False)"
   ]
  },
  {
   "cell_type": "code",
   "execution_count": null,
   "id": "fe819c1e",
   "metadata": {},
   "outputs": [],
   "source": [
    "df_democrat_word_counts"
   ]
  },
  {
   "cell_type": "code",
   "execution_count": null,
   "id": "20b7f0dc",
   "metadata": {},
   "outputs": [],
   "source": [
    "df_democrat_word_counts.to_csv('C:/Users/Amara/Documents/GitHub/DS105-Project/democrat_word_counts.csv')"
   ]
  },
  {
   "cell_type": "code",
   "execution_count": null,
   "id": "fa025ee3",
   "metadata": {},
   "outputs": [],
   "source": [
    "republican_counts = []\n",
    "for i in range(len(df_word_count)):\n",
    "    if df_word_count.iloc[i]['handle'] in republican_handles:\n",
    "        republican_counts.append(df_word_count.iloc[i])"
   ]
  },
  {
   "cell_type": "code",
   "execution_count": 12,
   "id": "ee7a7aff",
   "metadata": {},
   "outputs": [
    {
     "ename": "NameError",
     "evalue": "name 'republican_counts' is not defined",
     "output_type": "error",
     "traceback": [
      "\u001b[1;31m---------------------------------------------------------------------------\u001b[0m",
      "\u001b[1;31mNameError\u001b[0m                                 Traceback (most recent call last)",
      "Input \u001b[1;32mIn [12]\u001b[0m, in \u001b[0;36m<cell line: 1>\u001b[1;34m()\u001b[0m\n\u001b[1;32m----> 1\u001b[0m df_republican_words \u001b[38;5;241m=\u001b[39m pd\u001b[38;5;241m.\u001b[39mDataFrame(\u001b[43mrepublican_counts\u001b[49m)\u001b[38;5;241m.\u001b[39mdrop(labels\u001b[38;5;241m=\u001b[39m\u001b[38;5;124m'\u001b[39m\u001b[38;5;124mhandle\u001b[39m\u001b[38;5;124m'\u001b[39m, axis\u001b[38;5;241m=\u001b[39m\u001b[38;5;241m1\u001b[39m, index\u001b[38;5;241m=\u001b[39m\u001b[38;5;28;01mNone\u001b[39;00m, columns\u001b[38;5;241m=\u001b[39m\u001b[38;5;28;01mNone\u001b[39;00m, level\u001b[38;5;241m=\u001b[39m\u001b[38;5;28;01mNone\u001b[39;00m, inplace\u001b[38;5;241m=\u001b[39m\u001b[38;5;28;01mFalse\u001b[39;00m, errors\u001b[38;5;241m=\u001b[39m\u001b[38;5;124m'\u001b[39m\u001b[38;5;124mraise\u001b[39m\u001b[38;5;124m'\u001b[39m)\n",
      "\u001b[1;31mNameError\u001b[0m: name 'republican_counts' is not defined"
     ]
    }
   ],
   "source": [
    "df_republican_words = pd.DataFrame(republican_counts).drop(labels='handle', axis=1, index=None, columns=None, level=None, inplace=False, errors='raise')"
   ]
  },
  {
   "cell_type": "code",
   "execution_count": 13,
   "id": "167db867",
   "metadata": {},
   "outputs": [
    {
     "ename": "NameError",
     "evalue": "name 'df_republican_words' is not defined",
     "output_type": "error",
     "traceback": [
      "\u001b[1;31m---------------------------------------------------------------------------\u001b[0m",
      "\u001b[1;31mNameError\u001b[0m                                 Traceback (most recent call last)",
      "Input \u001b[1;32mIn [13]\u001b[0m, in \u001b[0;36m<cell line: 1>\u001b[1;34m()\u001b[0m\n\u001b[1;32m----> 1\u001b[0m df_republican_word_counts \u001b[38;5;241m=\u001b[39m \u001b[43mdf_republican_words\u001b[49m\u001b[38;5;241m.\u001b[39mgroupby([\u001b[38;5;124m'\u001b[39m\u001b[38;5;124mWord\u001b[39m\u001b[38;5;124m'\u001b[39m])\u001b[38;5;241m.\u001b[39msum()\u001b[38;5;241m.\u001b[39msort_values(by\u001b[38;5;241m=\u001b[39m[\u001b[38;5;124m\"\u001b[39m\u001b[38;5;124mCount\u001b[39m\u001b[38;5;124m\"\u001b[39m], ascending \u001b[38;5;241m=\u001b[39m \u001b[38;5;28;01mFalse\u001b[39;00m)\n",
      "\u001b[1;31mNameError\u001b[0m: name 'df_republican_words' is not defined"
     ]
    }
   ],
   "source": [
    "df_republican_word_counts = df_republican_words.groupby(['Word']).sum().sort_values(by=[\"Count\"], ascending = False)"
   ]
  },
  {
   "cell_type": "code",
   "execution_count": 14,
   "id": "c7ae0b22",
   "metadata": {},
   "outputs": [
    {
     "ename": "NameError",
     "evalue": "name 'df_republican_word_counts' is not defined",
     "output_type": "error",
     "traceback": [
      "\u001b[1;31m---------------------------------------------------------------------------\u001b[0m",
      "\u001b[1;31mNameError\u001b[0m                                 Traceback (most recent call last)",
      "Input \u001b[1;32mIn [14]\u001b[0m, in \u001b[0;36m<cell line: 1>\u001b[1;34m()\u001b[0m\n\u001b[1;32m----> 1\u001b[0m \u001b[43mdf_republican_word_counts\u001b[49m\n",
      "\u001b[1;31mNameError\u001b[0m: name 'df_republican_word_counts' is not defined"
     ]
    }
   ],
   "source": [
    "df_republican_word_counts"
   ]
  },
  {
   "cell_type": "code",
   "execution_count": 15,
   "id": "15c07a26",
   "metadata": {},
   "outputs": [
    {
     "ename": "NameError",
     "evalue": "name 'df_republican_word_counts' is not defined",
     "output_type": "error",
     "traceback": [
      "\u001b[1;31m---------------------------------------------------------------------------\u001b[0m",
      "\u001b[1;31mNameError\u001b[0m                                 Traceback (most recent call last)",
      "Input \u001b[1;32mIn [15]\u001b[0m, in \u001b[0;36m<cell line: 1>\u001b[1;34m()\u001b[0m\n\u001b[1;32m----> 1\u001b[0m \u001b[43mdf_republican_word_counts\u001b[49m\u001b[38;5;241m.\u001b[39mto_csv(\u001b[38;5;124m'\u001b[39m\u001b[38;5;124mC:/Users/Amara/Documents/GitHub/DS105-Project/republican_word_counts.csv\u001b[39m\u001b[38;5;124m'\u001b[39m)\n",
      "\u001b[1;31mNameError\u001b[0m: name 'df_republican_word_counts' is not defined"
     ]
    }
   ],
   "source": [
    "df_republican_word_counts.to_csv('C:/Users/Amara/Documents/GitHub/DS105-Project/republican_word_counts.csv')"
   ]
  },
  {
   "cell_type": "code",
   "execution_count": 16,
   "id": "fb40fb3f",
   "metadata": {},
   "outputs": [],
   "source": [
    "tweets = pd.read_csv(\"tweets.csv\")\n",
    "dates_tweets = tweets.drop(labels='name', axis=1, index=None, columns=None, level=None, inplace=False, errors='raise').drop(labels='tweet_id', axis=1, index=None, columns=None, level=None, inplace=False, errors='raise').drop(labels='author_id', axis=1, index=None, columns=None, level=None, inplace=False, errors='raise').drop(labels='lang', axis=1, index=None, columns=None, level=None, inplace=False, errors='raise').drop(labels='replied_to', axis=1, index=None, columns=None, level=None, inplace=False, errors='raise').drop(labels='possibly_sensitive', axis=1, index=None, columns=None, level=None, inplace=False, errors='raise').drop(labels='conversation_id', axis=1, index=None, columns=None, level=None, inplace=False, errors='raise').drop(labels='key_word_list', axis=1, index=None, columns=None, level=None, inplace=False, errors='raise')"
   ]
  },
  {
   "cell_type": "code",
   "execution_count": 17,
   "id": "8c2c3a76",
   "metadata": {},
   "outputs": [
    {
     "data": {
      "text/html": [
       "<div>\n",
       "<style scoped>\n",
       "    .dataframe tbody tr th:only-of-type {\n",
       "        vertical-align: middle;\n",
       "    }\n",
       "\n",
       "    .dataframe tbody tr th {\n",
       "        vertical-align: top;\n",
       "    }\n",
       "\n",
       "    .dataframe thead th {\n",
       "        text-align: right;\n",
       "    }\n",
       "</style>\n",
       "<table border=\"1\" class=\"dataframe\">\n",
       "  <thead>\n",
       "    <tr style=\"text-align: right;\">\n",
       "      <th></th>\n",
       "      <th>handle</th>\n",
       "      <th>created_at</th>\n",
       "      <th>tweet_text</th>\n",
       "      <th>retweet_count</th>\n",
       "      <th>reply_count</th>\n",
       "      <th>like_count</th>\n",
       "      <th>quote_count</th>\n",
       "    </tr>\n",
       "  </thead>\n",
       "  <tbody>\n",
       "    <tr>\n",
       "      <th>0</th>\n",
       "      <td>RepAdams</td>\n",
       "      <td>2022-12-07T14:56:09.000Z</td>\n",
       "      <td>Today, the question of whether or not there sh...</td>\n",
       "      <td>10</td>\n",
       "      <td>4</td>\n",
       "      <td>4</td>\n",
       "      <td>1</td>\n",
       "    </tr>\n",
       "    <tr>\n",
       "      <th>1</th>\n",
       "      <td>RepAdams</td>\n",
       "      <td>2022-12-07T00:20:49.000Z</td>\n",
       "      <td>RT @CCLCharlotteNC: Thanks to @RepAdams staff ...</td>\n",
       "      <td>3</td>\n",
       "      <td>0</td>\n",
       "      <td>0</td>\n",
       "      <td>0</td>\n",
       "    </tr>\n",
       "    <tr>\n",
       "      <th>2</th>\n",
       "      <td>RepAdams</td>\n",
       "      <td>2022-12-06T17:27:13.000Z</td>\n",
       "      <td>RT @RepBonnie: SCOTUS will soon hear arguments...</td>\n",
       "      <td>21</td>\n",
       "      <td>0</td>\n",
       "      <td>0</td>\n",
       "      <td>0</td>\n",
       "    </tr>\n",
       "    <tr>\n",
       "      <th>3</th>\n",
       "      <td>RepAdams</td>\n",
       "      <td>2022-12-06T15:53:19.000Z</td>\n",
       "      <td>RT @cspan: Congressional Gold Medal Ceremony f...</td>\n",
       "      <td>44</td>\n",
       "      <td>0</td>\n",
       "      <td>0</td>\n",
       "      <td>0</td>\n",
       "    </tr>\n",
       "    <tr>\n",
       "      <th>4</th>\n",
       "      <td>RepAdams</td>\n",
       "      <td>2022-12-06T15:36:17.000Z</td>\n",
       "      <td>Congratulations @StephenCurry30! You’re always...</td>\n",
       "      <td>2</td>\n",
       "      <td>0</td>\n",
       "      <td>0</td>\n",
       "      <td>0</td>\n",
       "    </tr>\n",
       "    <tr>\n",
       "      <th>...</th>\n",
       "      <td>...</td>\n",
       "      <td>...</td>\n",
       "      <td>...</td>\n",
       "      <td>...</td>\n",
       "      <td>...</td>\n",
       "      <td>...</td>\n",
       "      <td>...</td>\n",
       "    </tr>\n",
       "    <tr>\n",
       "      <th>3232</th>\n",
       "      <td>RepAdams</td>\n",
       "      <td>2021-02-11T15:16:15.000Z</td>\n",
       "      <td>RT @RepTerriSewell: Addie Mae Collins, Cynthia...</td>\n",
       "      <td>62</td>\n",
       "      <td>0</td>\n",
       "      <td>0</td>\n",
       "      <td>0</td>\n",
       "    </tr>\n",
       "    <tr>\n",
       "      <th>3233</th>\n",
       "      <td>RepAdams</td>\n",
       "      <td>2021-02-11T13:24:23.000Z</td>\n",
       "      <td>RT @theobserver: U.S. Rep. Alma Adams is leadi...</td>\n",
       "      <td>3</td>\n",
       "      <td>0</td>\n",
       "      <td>0</td>\n",
       "      <td>0</td>\n",
       "    </tr>\n",
       "    <tr>\n",
       "      <th>3234</th>\n",
       "      <td>RepAdams</td>\n",
       "      <td>2021-02-11T03:51:33.000Z</td>\n",
       "      <td>RT @RepBarragan: The American people need supp...</td>\n",
       "      <td>17</td>\n",
       "      <td>0</td>\n",
       "      <td>0</td>\n",
       "      <td>0</td>\n",
       "    </tr>\n",
       "    <tr>\n",
       "      <th>3235</th>\n",
       "      <td>RepAdams</td>\n",
       "      <td>2021-02-11T00:20:00.000Z</td>\n",
       "      <td>RT @HouseJudiciary: It could have been much wo...</td>\n",
       "      <td>293</td>\n",
       "      <td>0</td>\n",
       "      <td>0</td>\n",
       "      <td>0</td>\n",
       "    </tr>\n",
       "    <tr>\n",
       "      <th>3236</th>\n",
       "      <td>RepAdams</td>\n",
       "      <td>2021-02-11T00:18:21.000Z</td>\n",
       "      <td>RT @erinspencer93: In the midst of an impeachm...</td>\n",
       "      <td>11</td>\n",
       "      <td>0</td>\n",
       "      <td>0</td>\n",
       "      <td>0</td>\n",
       "    </tr>\n",
       "  </tbody>\n",
       "</table>\n",
       "<p>3237 rows × 7 columns</p>\n",
       "</div>"
      ],
      "text/plain": [
       "        handle                created_at  \\\n",
       "0     RepAdams  2022-12-07T14:56:09.000Z   \n",
       "1     RepAdams  2022-12-07T00:20:49.000Z   \n",
       "2     RepAdams  2022-12-06T17:27:13.000Z   \n",
       "3     RepAdams  2022-12-06T15:53:19.000Z   \n",
       "4     RepAdams  2022-12-06T15:36:17.000Z   \n",
       "...        ...                       ...   \n",
       "3232  RepAdams  2021-02-11T15:16:15.000Z   \n",
       "3233  RepAdams  2021-02-11T13:24:23.000Z   \n",
       "3234  RepAdams  2021-02-11T03:51:33.000Z   \n",
       "3235  RepAdams  2021-02-11T00:20:00.000Z   \n",
       "3236  RepAdams  2021-02-11T00:18:21.000Z   \n",
       "\n",
       "                                             tweet_text  retweet_count  \\\n",
       "0     Today, the question of whether or not there sh...             10   \n",
       "1     RT @CCLCharlotteNC: Thanks to @RepAdams staff ...              3   \n",
       "2     RT @RepBonnie: SCOTUS will soon hear arguments...             21   \n",
       "3     RT @cspan: Congressional Gold Medal Ceremony f...             44   \n",
       "4     Congratulations @StephenCurry30! You’re always...              2   \n",
       "...                                                 ...            ...   \n",
       "3232  RT @RepTerriSewell: Addie Mae Collins, Cynthia...             62   \n",
       "3233  RT @theobserver: U.S. Rep. Alma Adams is leadi...              3   \n",
       "3234  RT @RepBarragan: The American people need supp...             17   \n",
       "3235  RT @HouseJudiciary: It could have been much wo...            293   \n",
       "3236  RT @erinspencer93: In the midst of an impeachm...             11   \n",
       "\n",
       "      reply_count  like_count  quote_count  \n",
       "0               4           4            1  \n",
       "1               0           0            0  \n",
       "2               0           0            0  \n",
       "3               0           0            0  \n",
       "4               0           0            0  \n",
       "...           ...         ...          ...  \n",
       "3232            0           0            0  \n",
       "3233            0           0            0  \n",
       "3234            0           0            0  \n",
       "3235            0           0            0  \n",
       "3236            0           0            0  \n",
       "\n",
       "[3237 rows x 7 columns]"
      ]
     },
     "execution_count": 17,
     "metadata": {},
     "output_type": "execute_result"
    }
   ],
   "source": [
    "dates_tweets"
   ]
  },
  {
   "cell_type": "code",
   "execution_count": 18,
   "id": "3903e125",
   "metadata": {},
   "outputs": [
    {
     "ename": "NameError",
     "evalue": "name 'utf8' is not defined",
     "output_type": "error",
     "traceback": [
      "\u001b[1;31m---------------------------------------------------------------------------\u001b[0m",
      "\u001b[1;31mNameError\u001b[0m                                 Traceback (most recent call last)",
      "Input \u001b[1;32mIn [18]\u001b[0m, in \u001b[0;36m<cell line: 1>\u001b[1;34m()\u001b[0m\n\u001b[1;32m----> 1\u001b[0m dates_tweets\u001b[38;5;241m.\u001b[39mto_csv(\u001b[38;5;124m'\u001b[39m\u001b[38;5;124mC:/Users/Amara/Documents/GitHub/DS105-Project/dates_tweets.csv\u001b[39m\u001b[38;5;124m'\u001b[39m, encoding \u001b[38;5;241m=\u001b[39m \u001b[43mutf8\u001b[49m)\n",
      "\u001b[1;31mNameError\u001b[0m: name 'utf8' is not defined"
     ]
    }
   ],
   "source": [
    "dates_tweets.to_csv('C:/Users/Amara/Documents/GitHub/DS105-Project/dates_tweets.csv', encoding = utf8)"
   ]
  },
  {
   "cell_type": "code",
   "execution_count": 19,
   "id": "b4b21cb3",
   "metadata": {},
   "outputs": [
    {
     "ename": "NameError",
     "evalue": "name 'democrat_handles' is not defined",
     "output_type": "error",
     "traceback": [
      "\u001b[1;31m---------------------------------------------------------------------------\u001b[0m",
      "\u001b[1;31mNameError\u001b[0m                                 Traceback (most recent call last)",
      "Input \u001b[1;32mIn [19]\u001b[0m, in \u001b[0;36m<cell line: 2>\u001b[1;34m()\u001b[0m\n\u001b[0;32m      1\u001b[0m democrat_tweets \u001b[38;5;241m=\u001b[39m []\n\u001b[0;32m      2\u001b[0m \u001b[38;5;28;01mfor\u001b[39;00m i \u001b[38;5;129;01min\u001b[39;00m \u001b[38;5;28mrange\u001b[39m(\u001b[38;5;28mlen\u001b[39m(dates_tweets)):\n\u001b[1;32m----> 3\u001b[0m     \u001b[38;5;28;01mif\u001b[39;00m dates_tweets\u001b[38;5;241m.\u001b[39miloc[i][\u001b[38;5;124m'\u001b[39m\u001b[38;5;124mhandle\u001b[39m\u001b[38;5;124m'\u001b[39m] \u001b[38;5;129;01min\u001b[39;00m \u001b[43mdemocrat_handles\u001b[49m:\n\u001b[0;32m      4\u001b[0m         democrat_tweets\u001b[38;5;241m.\u001b[39mappend(dates_tweets\u001b[38;5;241m.\u001b[39miloc[i])\n",
      "\u001b[1;31mNameError\u001b[0m: name 'democrat_handles' is not defined"
     ]
    }
   ],
   "source": [
    "democrat_tweets = []\n",
    "for i in range(len(dates_tweets)):\n",
    "    if dates_tweets.iloc[i]['handle'] in democrat_handles:\n",
    "        democrat_tweets.append(dates_tweets.iloc[i])"
   ]
  },
  {
   "cell_type": "code",
   "execution_count": 20,
   "id": "600102b4",
   "metadata": {},
   "outputs": [],
   "source": [
    "df_democrat_dates_tweets = pd.DataFrame(democrat_tweets)"
   ]
  },
  {
   "cell_type": "code",
   "execution_count": 21,
   "id": "d03146a7",
   "metadata": {},
   "outputs": [
    {
     "data": {
      "text/html": [
       "<div>\n",
       "<style scoped>\n",
       "    .dataframe tbody tr th:only-of-type {\n",
       "        vertical-align: middle;\n",
       "    }\n",
       "\n",
       "    .dataframe tbody tr th {\n",
       "        vertical-align: top;\n",
       "    }\n",
       "\n",
       "    .dataframe thead th {\n",
       "        text-align: right;\n",
       "    }\n",
       "</style>\n",
       "<table border=\"1\" class=\"dataframe\">\n",
       "  <thead>\n",
       "    <tr style=\"text-align: right;\">\n",
       "      <th></th>\n",
       "    </tr>\n",
       "  </thead>\n",
       "  <tbody>\n",
       "  </tbody>\n",
       "</table>\n",
       "</div>"
      ],
      "text/plain": [
       "Empty DataFrame\n",
       "Columns: []\n",
       "Index: []"
      ]
     },
     "execution_count": 21,
     "metadata": {},
     "output_type": "execute_result"
    }
   ],
   "source": [
    "df_democrat_dates_tweets"
   ]
  },
  {
   "cell_type": "code",
   "execution_count": 22,
   "id": "d7cd2872",
   "metadata": {},
   "outputs": [],
   "source": [
    "df_democrat_dates_tweets.to_csv('C:/Users/Amara/Documents/GitHub/DS105-Project/democrat_dates_tweets.csv')"
   ]
  },
  {
   "cell_type": "code",
   "execution_count": 23,
   "id": "5ea93476",
   "metadata": {},
   "outputs": [
    {
     "ename": "NameError",
     "evalue": "name 'republican_handles' is not defined",
     "output_type": "error",
     "traceback": [
      "\u001b[1;31m---------------------------------------------------------------------------\u001b[0m",
      "\u001b[1;31mNameError\u001b[0m                                 Traceback (most recent call last)",
      "Input \u001b[1;32mIn [23]\u001b[0m, in \u001b[0;36m<cell line: 2>\u001b[1;34m()\u001b[0m\n\u001b[0;32m      1\u001b[0m republican_tweets \u001b[38;5;241m=\u001b[39m []\n\u001b[0;32m      2\u001b[0m \u001b[38;5;28;01mfor\u001b[39;00m i \u001b[38;5;129;01min\u001b[39;00m \u001b[38;5;28mrange\u001b[39m(\u001b[38;5;28mlen\u001b[39m(dates_tweets)):\n\u001b[1;32m----> 3\u001b[0m     \u001b[38;5;28;01mif\u001b[39;00m dates_tweets\u001b[38;5;241m.\u001b[39miloc[i][\u001b[38;5;124m'\u001b[39m\u001b[38;5;124mhandle\u001b[39m\u001b[38;5;124m'\u001b[39m] \u001b[38;5;129;01min\u001b[39;00m \u001b[43mrepublican_handles\u001b[49m:\n\u001b[0;32m      4\u001b[0m         republican_tweets\u001b[38;5;241m.\u001b[39mappend(dates_tweets\u001b[38;5;241m.\u001b[39miloc[i])\n",
      "\u001b[1;31mNameError\u001b[0m: name 'republican_handles' is not defined"
     ]
    }
   ],
   "source": [
    "republican_tweets = []\n",
    "for i in range(len(dates_tweets)):\n",
    "    if dates_tweets.iloc[i]['handle'] in republican_handles:\n",
    "        republican_tweets.append(dates_tweets.iloc[i])"
   ]
  },
  {
   "cell_type": "code",
   "execution_count": 24,
   "id": "7bff7976",
   "metadata": {},
   "outputs": [],
   "source": [
    "df_republican_dates_tweets = pd.DataFrame(republican_tweets)"
   ]
  },
  {
   "cell_type": "code",
   "execution_count": 25,
   "id": "9583d624",
   "metadata": {
    "scrolled": true
   },
   "outputs": [
    {
     "data": {
      "text/html": [
       "<div>\n",
       "<style scoped>\n",
       "    .dataframe tbody tr th:only-of-type {\n",
       "        vertical-align: middle;\n",
       "    }\n",
       "\n",
       "    .dataframe tbody tr th {\n",
       "        vertical-align: top;\n",
       "    }\n",
       "\n",
       "    .dataframe thead th {\n",
       "        text-align: right;\n",
       "    }\n",
       "</style>\n",
       "<table border=\"1\" class=\"dataframe\">\n",
       "  <thead>\n",
       "    <tr style=\"text-align: right;\">\n",
       "      <th></th>\n",
       "    </tr>\n",
       "  </thead>\n",
       "  <tbody>\n",
       "  </tbody>\n",
       "</table>\n",
       "</div>"
      ],
      "text/plain": [
       "Empty DataFrame\n",
       "Columns: []\n",
       "Index: []"
      ]
     },
     "execution_count": 25,
     "metadata": {},
     "output_type": "execute_result"
    }
   ],
   "source": [
    "df_republican_dates_tweets"
   ]
  },
  {
   "cell_type": "code",
   "execution_count": 26,
   "id": "709a8ec8",
   "metadata": {},
   "outputs": [],
   "source": [
    "df_republican_dates_tweets.to_csv('C:/Users/Amara/Documents/GitHub/DS105-Project/republican_dates_tweets.csv')"
   ]
  },
  {
   "cell_type": "code",
   "execution_count": 27,
   "id": "2e9c107e",
   "metadata": {},
   "outputs": [],
   "source": [
    "dates_keywords = tweets.drop(labels='name', axis=1, index=None, columns=None, level=None, inplace=False, errors='raise').drop(labels='tweet_id', axis=1, index=None, columns=None, level=None, inplace=False, errors='raise').drop(labels='author_id', axis=1, index=None, columns=None, level=None, inplace=False, errors='raise').drop(labels='lang', axis=1, index=None, columns=None, level=None, inplace=False, errors='raise').drop(labels='replied_to', axis=1, index=None, columns=None, level=None, inplace=False, errors='raise').drop(labels='possibly_sensitive', axis=1, index=None, columns=None, level=None, inplace=False, errors='raise').drop(labels='conversation_id', axis=1, index=None, columns=None, level=None, inplace=False, errors='raise')"
   ]
  },
  {
   "cell_type": "code",
   "execution_count": 28,
   "id": "6ce26b08",
   "metadata": {},
   "outputs": [
    {
     "data": {
      "text/html": [
       "<div>\n",
       "<style scoped>\n",
       "    .dataframe tbody tr th:only-of-type {\n",
       "        vertical-align: middle;\n",
       "    }\n",
       "\n",
       "    .dataframe tbody tr th {\n",
       "        vertical-align: top;\n",
       "    }\n",
       "\n",
       "    .dataframe thead th {\n",
       "        text-align: right;\n",
       "    }\n",
       "</style>\n",
       "<table border=\"1\" class=\"dataframe\">\n",
       "  <thead>\n",
       "    <tr style=\"text-align: right;\">\n",
       "      <th></th>\n",
       "      <th>handle</th>\n",
       "      <th>created_at</th>\n",
       "      <th>tweet_text</th>\n",
       "      <th>retweet_count</th>\n",
       "      <th>reply_count</th>\n",
       "      <th>like_count</th>\n",
       "      <th>quote_count</th>\n",
       "      <th>key_word_list</th>\n",
       "    </tr>\n",
       "  </thead>\n",
       "  <tbody>\n",
       "    <tr>\n",
       "      <th>0</th>\n",
       "      <td>RepAdams</td>\n",
       "      <td>2022-12-07T14:56:09.000Z</td>\n",
       "      <td>Today, the question of whether or not there sh...</td>\n",
       "      <td>10</td>\n",
       "      <td>4</td>\n",
       "      <td>4</td>\n",
       "      <td>1</td>\n",
       "      <td>['today', 'question', 'check', 'balance', 'par...</td>\n",
       "    </tr>\n",
       "    <tr>\n",
       "      <th>1</th>\n",
       "      <td>RepAdams</td>\n",
       "      <td>2022-12-07T00:20:49.000Z</td>\n",
       "      <td>RT @CCLCharlotteNC: Thanks to @RepAdams staff ...</td>\n",
       "      <td>3</td>\n",
       "      <td>0</td>\n",
       "      <td>0</td>\n",
       "      <td>0</td>\n",
       "      <td>['thank', 'staff', 'orlice', 'hodges', 'avery'...</td>\n",
       "    </tr>\n",
       "    <tr>\n",
       "      <th>2</th>\n",
       "      <td>RepAdams</td>\n",
       "      <td>2022-12-06T17:27:13.000Z</td>\n",
       "      <td>RT @RepBonnie: SCOTUS will soon hear arguments...</td>\n",
       "      <td>21</td>\n",
       "      <td>0</td>\n",
       "      <td>0</td>\n",
       "      <td>0</td>\n",
       "      <td>['scotus', 'soon', 'hear', 'argument', 'moore'...</td>\n",
       "    </tr>\n",
       "    <tr>\n",
       "      <th>3</th>\n",
       "      <td>RepAdams</td>\n",
       "      <td>2022-12-06T15:53:19.000Z</td>\n",
       "      <td>RT @cspan: Congressional Gold Medal Ceremony f...</td>\n",
       "      <td>44</td>\n",
       "      <td>0</td>\n",
       "      <td>0</td>\n",
       "      <td>0</td>\n",
       "      <td>['congressional', 'gold', 'medal', 'ceremony',...</td>\n",
       "    </tr>\n",
       "    <tr>\n",
       "      <th>4</th>\n",
       "      <td>RepAdams</td>\n",
       "      <td>2022-12-06T15:36:17.000Z</td>\n",
       "      <td>Congratulations @StephenCurry30! You’re always...</td>\n",
       "      <td>2</td>\n",
       "      <td>0</td>\n",
       "      <td>0</td>\n",
       "      <td>0</td>\n",
       "      <td>['congratulation', 'always', 'welcome', 'back'...</td>\n",
       "    </tr>\n",
       "    <tr>\n",
       "      <th>...</th>\n",
       "      <td>...</td>\n",
       "      <td>...</td>\n",
       "      <td>...</td>\n",
       "      <td>...</td>\n",
       "      <td>...</td>\n",
       "      <td>...</td>\n",
       "      <td>...</td>\n",
       "      <td>...</td>\n",
       "    </tr>\n",
       "    <tr>\n",
       "      <th>3232</th>\n",
       "      <td>RepAdams</td>\n",
       "      <td>2021-02-11T15:16:15.000Z</td>\n",
       "      <td>RT @RepTerriSewell: Addie Mae Collins, Cynthia...</td>\n",
       "      <td>62</td>\n",
       "      <td>0</td>\n",
       "      <td>0</td>\n",
       "      <td>0</td>\n",
       "      <td>['addie', 'mae', 'collins', 'cynthia', 'wesley...</td>\n",
       "    </tr>\n",
       "    <tr>\n",
       "      <th>3233</th>\n",
       "      <td>RepAdams</td>\n",
       "      <td>2021-02-11T13:24:23.000Z</td>\n",
       "      <td>RT @theobserver: U.S. Rep. Alma Adams is leadi...</td>\n",
       "      <td>3</td>\n",
       "      <td>0</td>\n",
       "      <td>0</td>\n",
       "      <td>0</td>\n",
       "      <td>['alma', 'adams', 'lead', 'push', 'congress', ...</td>\n",
       "    </tr>\n",
       "    <tr>\n",
       "      <th>3234</th>\n",
       "      <td>RepAdams</td>\n",
       "      <td>2021-02-11T03:51:33.000Z</td>\n",
       "      <td>RT @RepBarragan: The American people need supp...</td>\n",
       "      <td>17</td>\n",
       "      <td>0</td>\n",
       "      <td>0</td>\n",
       "      <td>0</td>\n",
       "      <td>['american', 'people', 'need', 'support', 'aus...</td>\n",
       "    </tr>\n",
       "    <tr>\n",
       "      <th>3235</th>\n",
       "      <td>RepAdams</td>\n",
       "      <td>2021-02-11T00:20:00.000Z</td>\n",
       "      <td>RT @HouseJudiciary: It could have been much wo...</td>\n",
       "      <td>293</td>\n",
       "      <td>0</td>\n",
       "      <td>0</td>\n",
       "      <td>0</td>\n",
       "      <td>['much', 'bad', 'watch', 'new', 'footage', 'sh...</td>\n",
       "    </tr>\n",
       "    <tr>\n",
       "      <th>3236</th>\n",
       "      <td>RepAdams</td>\n",
       "      <td>2021-02-11T00:18:21.000Z</td>\n",
       "      <td>RT @erinspencer93: In the midst of an impeachm...</td>\n",
       "      <td>11</td>\n",
       "      <td>0</td>\n",
       "      <td>0</td>\n",
       "      <td>0</td>\n",
       "      <td>['midst', 'impeachment', 'trial', 'flurry', 'b...</td>\n",
       "    </tr>\n",
       "  </tbody>\n",
       "</table>\n",
       "<p>3237 rows × 8 columns</p>\n",
       "</div>"
      ],
      "text/plain": [
       "        handle                created_at  \\\n",
       "0     RepAdams  2022-12-07T14:56:09.000Z   \n",
       "1     RepAdams  2022-12-07T00:20:49.000Z   \n",
       "2     RepAdams  2022-12-06T17:27:13.000Z   \n",
       "3     RepAdams  2022-12-06T15:53:19.000Z   \n",
       "4     RepAdams  2022-12-06T15:36:17.000Z   \n",
       "...        ...                       ...   \n",
       "3232  RepAdams  2021-02-11T15:16:15.000Z   \n",
       "3233  RepAdams  2021-02-11T13:24:23.000Z   \n",
       "3234  RepAdams  2021-02-11T03:51:33.000Z   \n",
       "3235  RepAdams  2021-02-11T00:20:00.000Z   \n",
       "3236  RepAdams  2021-02-11T00:18:21.000Z   \n",
       "\n",
       "                                             tweet_text  retweet_count  \\\n",
       "0     Today, the question of whether or not there sh...             10   \n",
       "1     RT @CCLCharlotteNC: Thanks to @RepAdams staff ...              3   \n",
       "2     RT @RepBonnie: SCOTUS will soon hear arguments...             21   \n",
       "3     RT @cspan: Congressional Gold Medal Ceremony f...             44   \n",
       "4     Congratulations @StephenCurry30! You’re always...              2   \n",
       "...                                                 ...            ...   \n",
       "3232  RT @RepTerriSewell: Addie Mae Collins, Cynthia...             62   \n",
       "3233  RT @theobserver: U.S. Rep. Alma Adams is leadi...              3   \n",
       "3234  RT @RepBarragan: The American people need supp...             17   \n",
       "3235  RT @HouseJudiciary: It could have been much wo...            293   \n",
       "3236  RT @erinspencer93: In the midst of an impeachm...             11   \n",
       "\n",
       "      reply_count  like_count  quote_count  \\\n",
       "0               4           4            1   \n",
       "1               0           0            0   \n",
       "2               0           0            0   \n",
       "3               0           0            0   \n",
       "4               0           0            0   \n",
       "...           ...         ...          ...   \n",
       "3232            0           0            0   \n",
       "3233            0           0            0   \n",
       "3234            0           0            0   \n",
       "3235            0           0            0   \n",
       "3236            0           0            0   \n",
       "\n",
       "                                          key_word_list  \n",
       "0     ['today', 'question', 'check', 'balance', 'par...  \n",
       "1     ['thank', 'staff', 'orlice', 'hodges', 'avery'...  \n",
       "2     ['scotus', 'soon', 'hear', 'argument', 'moore'...  \n",
       "3     ['congressional', 'gold', 'medal', 'ceremony',...  \n",
       "4     ['congratulation', 'always', 'welcome', 'back'...  \n",
       "...                                                 ...  \n",
       "3232  ['addie', 'mae', 'collins', 'cynthia', 'wesley...  \n",
       "3233  ['alma', 'adams', 'lead', 'push', 'congress', ...  \n",
       "3234  ['american', 'people', 'need', 'support', 'aus...  \n",
       "3235  ['much', 'bad', 'watch', 'new', 'footage', 'sh...  \n",
       "3236  ['midst', 'impeachment', 'trial', 'flurry', 'b...  \n",
       "\n",
       "[3237 rows x 8 columns]"
      ]
     },
     "execution_count": 28,
     "metadata": {},
     "output_type": "execute_result"
    }
   ],
   "source": [
    "dates_keywords"
   ]
  },
  {
   "cell_type": "code",
   "execution_count": 29,
   "id": "4a72f62d",
   "metadata": {},
   "outputs": [],
   "source": [
    "dates_keywords.to_csv('C:/Users/Amara/Documents/GitHub/DS105-Project/dates_keywords.csv')"
   ]
  },
  {
   "cell_type": "code",
   "execution_count": 30,
   "id": "2bbb6b18",
   "metadata": {},
   "outputs": [
    {
     "ename": "NameError",
     "evalue": "name 'democrat_handles' is not defined",
     "output_type": "error",
     "traceback": [
      "\u001b[1;31m---------------------------------------------------------------------------\u001b[0m",
      "\u001b[1;31mNameError\u001b[0m                                 Traceback (most recent call last)",
      "Input \u001b[1;32mIn [30]\u001b[0m, in \u001b[0;36m<cell line: 2>\u001b[1;34m()\u001b[0m\n\u001b[0;32m      1\u001b[0m democrat_keywords \u001b[38;5;241m=\u001b[39m []\n\u001b[0;32m      2\u001b[0m \u001b[38;5;28;01mfor\u001b[39;00m i \u001b[38;5;129;01min\u001b[39;00m \u001b[38;5;28mrange\u001b[39m(\u001b[38;5;28mlen\u001b[39m(dates_keywords)):\n\u001b[1;32m----> 3\u001b[0m     \u001b[38;5;28;01mif\u001b[39;00m dates_keywords\u001b[38;5;241m.\u001b[39miloc[i][\u001b[38;5;124m'\u001b[39m\u001b[38;5;124mhandle\u001b[39m\u001b[38;5;124m'\u001b[39m] \u001b[38;5;129;01min\u001b[39;00m \u001b[43mdemocrat_handles\u001b[49m:\n\u001b[0;32m      4\u001b[0m         democrat_keywords\u001b[38;5;241m.\u001b[39mappend(dates_keywords\u001b[38;5;241m.\u001b[39miloc[i])\n",
      "\u001b[1;31mNameError\u001b[0m: name 'democrat_handles' is not defined"
     ]
    }
   ],
   "source": [
    "democrat_keywords = []\n",
    "for i in range(len(dates_keywords)):\n",
    "    if dates_keywords.iloc[i]['handle'] in democrat_handles:\n",
    "        democrat_keywords.append(dates_keywords.iloc[i])"
   ]
  },
  {
   "cell_type": "code",
   "execution_count": 31,
   "id": "ffcf7348",
   "metadata": {},
   "outputs": [],
   "source": [
    "df_democrat_keywords = pd.DataFrame(democrat_keywords)"
   ]
  },
  {
   "cell_type": "code",
   "execution_count": 32,
   "id": "4c30106e",
   "metadata": {},
   "outputs": [
    {
     "data": {
      "text/html": [
       "<div>\n",
       "<style scoped>\n",
       "    .dataframe tbody tr th:only-of-type {\n",
       "        vertical-align: middle;\n",
       "    }\n",
       "\n",
       "    .dataframe tbody tr th {\n",
       "        vertical-align: top;\n",
       "    }\n",
       "\n",
       "    .dataframe thead th {\n",
       "        text-align: right;\n",
       "    }\n",
       "</style>\n",
       "<table border=\"1\" class=\"dataframe\">\n",
       "  <thead>\n",
       "    <tr style=\"text-align: right;\">\n",
       "      <th></th>\n",
       "    </tr>\n",
       "  </thead>\n",
       "  <tbody>\n",
       "  </tbody>\n",
       "</table>\n",
       "</div>"
      ],
      "text/plain": [
       "Empty DataFrame\n",
       "Columns: []\n",
       "Index: []"
      ]
     },
     "execution_count": 32,
     "metadata": {},
     "output_type": "execute_result"
    }
   ],
   "source": [
    "df_democrat_keywords"
   ]
  },
  {
   "cell_type": "code",
   "execution_count": 33,
   "id": "17aba67e",
   "metadata": {},
   "outputs": [],
   "source": [
    "df_democrat_keywords.to_csv('C:/Users/Amara/Documents/GitHub/DS105-Project/democrat_keywords.csv')"
   ]
  },
  {
   "cell_type": "code",
   "execution_count": 34,
   "id": "c0b8a543",
   "metadata": {},
   "outputs": [
    {
     "ename": "NameError",
     "evalue": "name 'republican_handles' is not defined",
     "output_type": "error",
     "traceback": [
      "\u001b[1;31m---------------------------------------------------------------------------\u001b[0m",
      "\u001b[1;31mNameError\u001b[0m                                 Traceback (most recent call last)",
      "Input \u001b[1;32mIn [34]\u001b[0m, in \u001b[0;36m<cell line: 2>\u001b[1;34m()\u001b[0m\n\u001b[0;32m      1\u001b[0m republican_keywords \u001b[38;5;241m=\u001b[39m []\n\u001b[0;32m      2\u001b[0m \u001b[38;5;28;01mfor\u001b[39;00m i \u001b[38;5;129;01min\u001b[39;00m \u001b[38;5;28mrange\u001b[39m(\u001b[38;5;28mlen\u001b[39m(dates_keywords)):\n\u001b[1;32m----> 3\u001b[0m     \u001b[38;5;28;01mif\u001b[39;00m dates_keywords\u001b[38;5;241m.\u001b[39miloc[i][\u001b[38;5;124m'\u001b[39m\u001b[38;5;124mhandle\u001b[39m\u001b[38;5;124m'\u001b[39m] \u001b[38;5;129;01min\u001b[39;00m \u001b[43mrepublican_handles\u001b[49m:\n\u001b[0;32m      4\u001b[0m         republican_keywords\u001b[38;5;241m.\u001b[39mappend(dates_keywords\u001b[38;5;241m.\u001b[39miloc[i])\n",
      "\u001b[1;31mNameError\u001b[0m: name 'republican_handles' is not defined"
     ]
    }
   ],
   "source": [
    "republican_keywords = []\n",
    "for i in range(len(dates_keywords)):\n",
    "    if dates_keywords.iloc[i]['handle'] in republican_handles:\n",
    "        republican_keywords.append(dates_keywords.iloc[i])"
   ]
  },
  {
   "cell_type": "code",
   "execution_count": 35,
   "id": "9142f5e2",
   "metadata": {},
   "outputs": [],
   "source": [
    "df_republican_keywords = pd.DataFrame(republican_keywords)"
   ]
  },
  {
   "cell_type": "code",
   "execution_count": 36,
   "id": "265b80a7",
   "metadata": {},
   "outputs": [
    {
     "data": {
      "text/html": [
       "<div>\n",
       "<style scoped>\n",
       "    .dataframe tbody tr th:only-of-type {\n",
       "        vertical-align: middle;\n",
       "    }\n",
       "\n",
       "    .dataframe tbody tr th {\n",
       "        vertical-align: top;\n",
       "    }\n",
       "\n",
       "    .dataframe thead th {\n",
       "        text-align: right;\n",
       "    }\n",
       "</style>\n",
       "<table border=\"1\" class=\"dataframe\">\n",
       "  <thead>\n",
       "    <tr style=\"text-align: right;\">\n",
       "      <th></th>\n",
       "    </tr>\n",
       "  </thead>\n",
       "  <tbody>\n",
       "  </tbody>\n",
       "</table>\n",
       "</div>"
      ],
      "text/plain": [
       "Empty DataFrame\n",
       "Columns: []\n",
       "Index: []"
      ]
     },
     "execution_count": 36,
     "metadata": {},
     "output_type": "execute_result"
    }
   ],
   "source": [
    "df_republican_keywords"
   ]
  },
  {
   "cell_type": "code",
   "execution_count": 37,
   "id": "26906bb4",
   "metadata": {},
   "outputs": [],
   "source": [
    "df_republican_keywords.to_csv('C:/Users/Amara/Documents/GitHub/DS105-Project/republican_keywords.csv')"
   ]
  },
  {
   "cell_type": "code",
   "execution_count": null,
   "id": "d69051a9",
   "metadata": {},
   "outputs": [],
   "source": []
  }
 ],
 "metadata": {
  "kernelspec": {
   "display_name": "Python 3 (ipykernel)",
   "language": "python",
   "name": "python3"
  },
  "language_info": {
   "codemirror_mode": {
    "name": "ipython",
    "version": 3
   },
   "file_extension": ".py",
   "mimetype": "text/x-python",
   "name": "python",
   "nbconvert_exporter": "python",
   "pygments_lexer": "ipython3",
   "version": "3.9.12"
  }
 },
 "nbformat": 4,
 "nbformat_minor": 5
}
